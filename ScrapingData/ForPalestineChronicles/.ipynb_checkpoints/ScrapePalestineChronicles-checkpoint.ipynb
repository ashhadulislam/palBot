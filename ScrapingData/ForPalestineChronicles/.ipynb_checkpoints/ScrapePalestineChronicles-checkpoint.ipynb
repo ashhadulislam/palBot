{
 "cells": [
  {
   "cell_type": "code",
   "execution_count": 1,
   "id": "84f6d9b4",
   "metadata": {},
   "outputs": [],
   "source": [
    "import requests\n",
    "from bs4 import BeautifulSoup\n",
    "from tqdm import tqdm\n",
    "import json\n",
    "from pathlib import Path\n",
    "import pickle\n",
    "import os\n",
    "import time\n",
    "# ! pip install selenium\n",
    "from selenium.webdriver.common.by import By\n",
    "from selenium import webdriver\n",
    "from selenium.webdriver.common.keys import Keys\n",
    "import pandas as pd\n"
   ]
  },
  {
   "cell_type": "code",
   "execution_count": 2,
   "id": "2d43816a",
   "metadata": {},
   "outputs": [],
   "source": [
    "# echo 'export PATH=$PATH:/Users/ashhadulislam/projects/social/palestine/scrapeBoycott/ForIslamQAPalestine/chromedriver_mac64' >> ~/.bash_profile\n",
    "# source ~/.bash_profile\n"
   ]
  },
  {
   "cell_type": "code",
   "execution_count": 3,
   "id": "ea30c931",
   "metadata": {},
   "outputs": [],
   "source": [
    "# url=\"https://islamqa.info/en/google-search?q=palestine&search_engine=google\"\n",
    "# print(\"Going for \",url)\n",
    "# response = requests.get(url)\n",
    "# soup = BeautifulSoup(response.text, 'html.parser')"
   ]
  },
  {
   "cell_type": "code",
   "execution_count": 4,
   "id": "08dd7a79",
   "metadata": {},
   "outputs": [],
   "source": [
    "company_name=\"PalestineChronicle\"\n",
    "if not os.path.isdir(company_name):\n",
    "    os.mkdir(company_name)\n",
    "    \n",
    "\n",
    "    \n"
   ]
  },
  {
   "cell_type": "code",
   "execution_count": 5,
   "id": "3e4cab63",
   "metadata": {},
   "outputs": [
    {
     "data": {
      "text/plain": [
       "['chromedriver', 'LICENSE.chromedriver']"
      ]
     },
     "execution_count": 5,
     "metadata": {},
     "output_type": "execute_result"
    }
   ],
   "source": [
    "os.listdir(\"chromedriver_mac64\")"
   ]
  },
  {
   "cell_type": "code",
   "execution_count": null,
   "id": "731447d8",
   "metadata": {},
   "outputs": [],
   "source": []
  },
  {
   "cell_type": "code",
   "execution_count": 6,
   "id": "d4a42d61",
   "metadata": {},
   "outputs": [],
   "source": [
    "\n",
    "driver = webdriver.Chrome()\n",
    "\n"
   ]
  },
  {
   "cell_type": "code",
   "execution_count": 7,
   "id": "65519280",
   "metadata": {},
   "outputs": [
    {
     "name": "stdout",
     "output_type": "stream",
     "text": [
      "Category news\n",
      "https://www.palestinechronicle.com/in-solidarity-with-gaza-dublin-city-council-proudly-flies-palestinian-flag/\n",
      "https://www.palestinechronicle.com/horrific-crimes-in-gaza-reflect-israels-military-failure-hamdan/\n",
      "https://www.palestinechronicle.com/bad-day-for-the-israeli-army-reports-from-the-battlefield/\n",
      "https://www.palestinechronicle.com/israels-crimes-in-gaza-pose-threat-to-entire-region-turkish-president-erdogan/\n",
      "https://www.palestinechronicle.com/we-are-still-far-from-defeating-hamas-former-israeli-military-intelligence-chief/\n",
      "https://www.palestinechronicle.com/gastrointestinal-diseases-food-poisoning-hit-israeli-occupation-forces-in-gaza/\n",
      "https://www.palestinechronicle.com/three-young-palestinian-men-killed-by-israeli-forces-in-occupied-west-bank/\n",
      "https://www.palestinechronicle.com/all-communication-services-cut-off-amid-israels-aggression-in-gaza/\n",
      "https://www.palestinechronicle.com/israeli-army-admits-killing-of-five-soldiers-in-gaza-battles/\n",
      "https://www.palestinechronicle.com/israeli-airstrikes-kill-dozens-of-palestinians-in-southern-and-northern-gaza/\n",
      "https://www.palestinechronicle.com/gaza-live-blog-israel-blows-up-a-mosque-in-khan-yunis-bombs-a-school-shells-central-and-southern-gaza-resistance-kills-wounds-several-israeli-soldiers-day-60/\n",
      "https://www.palestinechronicle.com/vanguards-of-al-aqsa-flood-lebanons-palestinians-called-on-to-join-resistance/\n",
      "https://www.palestinechronicle.com/did-hamas-fightersdecapitate-israeli-babies-israeli-newspaper-answers/\n",
      "https://www.palestinechronicle.com/50-palestinians-killed-hundreds-wounded-as-israel-targets-two-schools-sheltering-displaced-people-in-gaza/\n",
      "https://www.palestinechronicle.com/peoples-suffering-is-intolerable-president-of-red-cross-arrives-in-gaza/\n",
      "https://www.palestinechronicle.com/netanyahus-corruption-trial-resumes-after-emergency-wartime-suspension/\n",
      "https://www.palestinechronicle.com/majority-ofus-democrats-oppose-israels-actions-in-gaza-new-poll/\n",
      "https://www.palestinechronicle.com/israeli-army-11000-rockets-were-fired-from-gaza-since-october-7/\n",
      "https://www.palestinechronicle.com/israeli-forces-detain-60-palestinians-across-occupied-west-bank/\n",
      "https://www.palestinechronicle.com/israeli-forces-kill-two-palestinians-injure-others-during-military-raid-in-qalqiliya/\n",
      "https://www.palestinechronicle.com/death-toll-rises-as-israel-targets-homes-schools-hospitals-across-gaza/\n",
      "https://www.palestinechronicle.com/dozens-killed-injured-as-israel-targets-entrance-of-kamal-adwan-hospital-in-gaza/\n",
      "https://www.palestinechronicle.com/gaza-live-blog-israel-bombs-targets-in-northern-southern-gaza-continued-attempts-to-reach-khan-yunis-resistance-fights-at-multiple-fronts-day-59/\n",
      "https://www.palestinechronicle.com/where-are-the-soldiers-now-satellite-images-of-israeli-army-in-gaza/\n",
      "https://www.palestinechronicle.com/more-distress-calls-yemeni-armed-forces-announce-targeting-israeli-ships-in-red-sea/\n",
      "https://www.palestinechronicle.com/this-is-hamas-political-position-osama-hamdan-video/\n",
      "https://www.palestinechronicle.com/total-destruction-of-hamas-would-take-a-decade-macron-video/\n",
      "https://www.palestinechronicle.com/killing-thousands-of-palestinian-children-is-a-nazi-practice-colombian-president/\n",
      "https://www.palestinechronicle.com/two-palestinians-killed-dozens-arrested-by-israel-in-occupied-west-bank/\n",
      "https://www.palestinechronicle.com/uk-to-launch-surveillance-flights-over-gaza-to-locate-israeli-captives/\n",
      "https:__www.palestinechronicle.com_in-solidarity-with-gaza-dublin-city-council-proudly-flies-palestinian-flag_.html\n",
      "Category articles\n",
      "https://www.palestinechronicle.com/israel-claims-hamas-spies-in-israel-facilitated-oct-7-operation-but-is-tel-aviv-telling-the-truth/\n",
      "https://www.palestinechronicle.com/predicting-pestilence-who-says-disease-could-be-deadlier-than-airstrikes-in-gaza/\n",
      "https://www.palestinechronicle.com/abandonbiden-why-are-muslim-americans-refusing-to-vote-democrat/\n",
      "https://www.palestinechronicle.com/why-gaza-child-alma-refused-to-be-rescued-following-israeli-attack-on-her-home-video/\n",
      "https://www.palestinechronicle.com/questioning-the-stories-we-are-told-on-solidarity-and-propaganda/\n",
      "https://www.palestinechronicle.com/israel-is-retreating-in-northern-gaza-trying-to-advance-in-south-qassam/\n",
      "https://www.palestinechronicle.com/who-is-lynn-hastings-the-un-official-forced-out-by-israel/\n",
      "https://www.palestinechronicle.com/palestine-unifier-of-the-islamic-world/\n",
      "https://www.palestinechronicle.com/only-survivor-in-her-family-palestine-chronicle-visits-wounded-gaza-child-sham/\n",
      "https://www.palestinechronicle.com/this-is-how-israel-can-release-its-prisoners-saleh-al-arouri/\n",
      "https://www.palestinechronicle.com/meet-the-gospel-how-artificial-intelligence-is-used-to-kill-palestinians/\n",
      "https://www.palestinechronicle.com/the-untold-history-of-gaza-on-conquerors-resurgence-and-rebirth/\n",
      "https://www.palestinechronicle.com/they-stepped-on-my-head-broke-my-fingers-palestinian-child-recalls-israeli-prison-experience/\n",
      "https://www.palestinechronicle.com/aid-to-gaza-through-the-rafah-crossing-a-timeline/\n",
      "https://www.palestinechronicle.com/a-daughter-of-nabi-saleh-who-is-palestinian-icon-ahed-tamimi/\n",
      "https://www.palestinechronicle.com/saluting-hamas-or-the-boring-routine-of-being-labeled-antisemitic-ronnie-kasrils/\n",
      "https://www.palestinechronicle.com/rain-and-genocide-gazans-fight-hunger-the-elements-photos/\n",
      "https://www.palestinechronicle.com/al-qassams-latest-video-is-best-production-yet-video/\n",
      "https://www.palestinechronicle.com/farasheeh-long-lines-and-lots-of-walking-palestine-chronicle-camera-in-gaza/\n",
      "https://www.palestinechronicle.com/beautiful-boy-ahmed-is-in-israeli-prison-over-social-media-post/\n",
      "https://www.palestinechronicle.com/a-terrorist-organization-this-is-what-hamas-charters-say/\n",
      "https://www.palestinechronicle.com/i-see-you-in-my-heart-the-story-of-palestinian-prisoner-faris-baroud/\n",
      "https://www.palestinechronicle.com/political-conflict-cannot-be-solved-with-military-tools-hamas-official/\n",
      "https://www.palestinechronicle.com/we-are-the-murabitat-who-is-hanadi-halawani-just-released-from-israeli-prison/\n",
      "https://www.palestinechronicle.com/liberation-begins-now-time-now-for-palestinians-to-protect-their-collective-sumud/\n",
      "https://www.palestinechronicle.com/wwii-again-this-is-how-netanyahu-plans-to-de-radicalize-gaza/\n",
      "https://www.palestinechronicle.com/wedding-in-un-shelter-palestinian-couple-find-joy-among-gaza-ruins/\n",
      "https://www.palestinechronicle.com/step-closer-to-victory-in-gaza-burns-expansive-deal-could-only-mean-one-thing-analysis/\n",
      "https://www.palestinechronicle.com/scenes-in-gaza-are-dystopian-dr-ghassan-abu-sittah/\n",
      "https://www.palestinechronicle.com/two-palestinian-artists-condemn-israels-destruction-of-gazas-iconic-theater/\n",
      "https:__www.palestinechronicle.com_israel-claims-hamas-spies-in-israel-facilitated-oct-7-operation-but-is-tel-aviv-telling-the-truth_.html\n",
      "Category reviews\n",
      "https://www.palestinechronicle.com/our-vision-for-liberation-a-cause-with-a-future-book-review/\n",
      "https://www.palestinechronicle.com/womens-voices-from-gaza-come-my-children-book-review/\n",
      "https://www.palestinechronicle.com/chronicling-the-mandatory-rape-of-palestine-a-book-review/\n",
      "https://www.palestinechronicle.com/light-the-road-of-freedom-womens-voices-from-gaza-book-review/\n",
      "https://www.palestinechronicle.com/womens-voices-from-gaza-a-white-lie-book-review/\n",
      "https://www.palestinechronicle.com/norman-solomons-war-made-invisible-refutes-collusion-with-war-makers-book-review/\n",
      "https://www.palestinechronicle.com/brotherhood-and-friendship-in-a-time-of-war-reflections-on-the-mercenary-book-review/\n",
      "https://www.palestinechronicle.com/grand-delusion-the-rise-and-fall-of-american-ambitions-in-the-middle-east/\n",
      "https://www.palestinechronicle.com/finding-melody-sullivan-book-review/\n",
      "https://www.palestinechronicle.com/america-and-iran-a-history-1720-to-the-present-book-review/\n",
      "https://www.palestinechronicle.com/they-called-me-a-lioness-a-palestinian-girls-fight-for-freedom-book-review/\n",
      "https://www.palestinechronicle.com/greater-than-the-sum-of-our-parts-feminism-inter-nationalism-palestine-book-review/\n",
      "https://www.palestinechronicle.com/imagining-palestine-cultures-of-exile-and-national-identity-book-review-2/\n",
      "https://www.palestinechronicle.com/glory-to-god-in-the-lowest-journeys-to-an-unholy-land-book-review/\n"
     ]
    },
    {
     "name": "stdout",
     "output_type": "stream",
     "text": [
      "https://www.palestinechronicle.com/zionism-during-the-holocaust-the-weaponization-of-memory-in-the-service-of-state-and-nation-book-review/\n",
      "https://www.palestinechronicle.com/the-arc-of-a-covenant-the-united-states-israel-and-the-fate-of-the-jewish-people-book-review/\n",
      "https://www.palestinechronicle.com/the-hundred-year-war-on-palestine-a-history-of-settler-colonialism-and-resistance-1917-2017/\n",
      "https://www.palestinechronicle.com/advocating-for-palestine-in-canada-histories-movements-actions-book-review/\n",
      "https://www.palestinechronicle.com/stand-on-guard-for-whom-a-peoples-history-of-the-canadian-military-book-review/\n",
      "https://www.palestinechronicle.com/our-vision-for-liberation-engaged-palestinian-leaders-intellectuals-speak-out-book-review/\n",
      "https://www.palestinechronicle.com/angela-davis-john-pilger-roger-waters-rave-about-just-released-our-vision-for-liberation/\n",
      "https://www.palestinechronicle.com/our-vision-for-liberation-engaged-palestinian-leaders-and-intellectuals-speak-out-book-review/\n",
      "https://www.palestinechronicle.com/giving-up-is-not-an-aption-memoirs-of-a-palestinianamerican-book-review/\n",
      "https://www.palestinechronicle.com/the-great-war-for-civilisation-the-conquest-of-the-middle-east-book-review/\n",
      "https://www.palestinechronicle.com/public-intellectual-the-life-of-a-citizen-pilgrim/\n",
      "https://www.palestinechronicle.com/giants-the-global-power-elite-book-review/\n",
      "https://www.palestinechronicle.com/the-american-trap-my-battle-to-expose-americas-secret-economic-war-against-the-rest-of-the-world-book-review/\n",
      "https://www.palestinechronicle.com/international-brigade-against-apartheid-book-review/\n",
      "https://www.palestinechronicle.com/contested-lands-a-history-of-the-middle-east-since-the-first-world-war-book-review/\n",
      "https://www.palestinechronicle.com/except-for-palestine-the-limits-of-progressive-politics-book-review/\n",
      "https:__www.palestinechronicle.com_our-vision-for-liberation-a-cause-with-a-future-book-review_.html\n"
     ]
    }
   ],
   "source": [
    "categories=[\"news\",\"articles\",\"reviews\"]    \n",
    "for category in categories:\n",
    "    print(\"Category\",category)\n",
    "\n",
    "    if not os.path.isdir(f\"{company_name}/{category}\"):\n",
    "        os.mkdir(f\"{company_name}/{category}\")\n",
    "\n",
    "    source_url=\"https://www.palestinechronicle.com/category\"\n",
    "    pages=[f\"{source_url}/{category}/page/{i}\" for i in range(10)]    \n",
    "    \n",
    "\n",
    "    destination_dir=f\"{company_name}/{category}\"\n",
    "    dic_nry={}\n",
    "    dic_nry[\"file_name\"]=[]\n",
    "    dic_nry[\"link\"]=[]\n",
    "    \n",
    "    for url in pages:\n",
    "        driver.get(url)\n",
    "        time.sleep(5)\n",
    "\n",
    "        # find and close the close button\n",
    "        webdriver.ActionChains(driver).send_keys(Keys.ESCAPE).perform()\n",
    "\n",
    "        class_=\"entry-title\"\n",
    "        clusters=driver.find_elements(By.CLASS_NAME, class_)\n",
    "        links=[]\n",
    "        for cluster in clusters:\n",
    "            link=cluster.find_elements(By.TAG_NAME,\"a\")[0].get_attribute(\"href\")\n",
    "            print(link)\n",
    "            links.append(link)\n",
    "\n",
    "        for link in links:\n",
    "            driver.get(link)\n",
    "            time.sleep(10)\n",
    "            webdriver.ActionChains(driver).send_keys(Keys.ESCAPE).perform()\n",
    "            text=driver.find_elements(By.CLASS_NAME, \"entry-content\")[0].text\n",
    "\n",
    "\n",
    "            html_text = '<html>\\n<body>\\n'\n",
    "            html_text += f'<p>{text}</p>\\n'\n",
    "            html_text += '</body>\\n</html>'\n",
    "            file_name=link+\".html\"\n",
    "            file_name=file_name.replace(\"/\",\"_\")\n",
    "            print(file_name)\n",
    "            dic_nry[\"file_name\"].append(file_name)\n",
    "            dic_nry[\"link\"].append(link) \n",
    "                  \n",
    "            with open(destination_dir+\"/\"+file_name,\"w\") as f:\n",
    "                f.write(html_text)\n",
    "\n",
    "                \n",
    "    df=pd.DataFrame(dic_nry)\n",
    "    df.to_csv(f\"{destination_dir}/link_match.csv\",index=False)\n",
    "    \n",
    "\n",
    "        "
   ]
  },
  {
   "cell_type": "code",
   "execution_count": null,
   "id": "37eb6b8e",
   "metadata": {},
   "outputs": [],
   "source": []
  }
 ],
 "metadata": {
  "kernelspec": {
   "display_name": "py310foreK",
   "language": "python",
   "name": "py310forek"
  },
  "language_info": {
   "codemirror_mode": {
    "name": "ipython",
    "version": 3
   },
   "file_extension": ".py",
   "mimetype": "text/x-python",
   "name": "python",
   "nbconvert_exporter": "python",
   "pygments_lexer": "ipython3",
   "version": "3.10.12"
  }
 },
 "nbformat": 4,
 "nbformat_minor": 5
}
