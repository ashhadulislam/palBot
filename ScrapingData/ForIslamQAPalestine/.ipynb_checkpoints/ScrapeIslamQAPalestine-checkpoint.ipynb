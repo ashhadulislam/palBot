{
 "cells": [
  {
   "cell_type": "code",
   "execution_count": 4,
   "id": "84f6d9b4",
   "metadata": {},
   "outputs": [],
   "source": [
    "import requests\n",
    "from bs4 import BeautifulSoup\n",
    "from tqdm import tqdm\n",
    "import json\n",
    "from pathlib import Path\n",
    "import pickle\n",
    "import os\n",
    "# ! pip install selenium"
   ]
  },
  {
   "cell_type": "code",
   "execution_count": null,
   "id": "25387dd8",
   "metadata": {},
   "outputs": [],
   "source": [
    "# echo 'export PATH=$PATH:/Users/ashhadulislam/projects/social/palestine/scrapeBoycott/ForIslamQAPalestine/chromedriver_mac64' >> ~/.bash_profile\n",
    "# source ~/.bash_profile\n"
   ]
  },
  {
   "cell_type": "code",
   "execution_count": null,
   "id": "8e328dbb",
   "metadata": {},
   "outputs": [],
   "source": [
    "url=\"https://islamqa.info/en/google-search?q=palestine&search_engine=google\"\n",
    "print(\"Going for \",url)\n",
    "response = requests.get(url)\n",
    "soup = BeautifulSoup(response.text, 'html.parser')"
   ]
  },
  {
   "cell_type": "code",
   "execution_count": null,
   "id": "a45b7bbe",
   "metadata": {},
   "outputs": [],
   "source": [
    "os.listdir(\"chromedriver_mac64\")"
   ]
  },
  {
   "cell_type": "code",
   "execution_count": 8,
   "id": "dcb1c206",
   "metadata": {},
   "outputs": [],
   "source": [
    "from selenium.webdriver.common.by import By\n"
   ]
  },
  {
   "cell_type": "code",
   "execution_count": 5,
   "id": "c9919df7",
   "metadata": {},
   "outputs": [],
   "source": [
    "from selenium import webdriver\n",
    "\n",
    "driver = webdriver.Chrome()"
   ]
  },
  {
   "cell_type": "code",
   "execution_count": 6,
   "id": "2be6436f",
   "metadata": {},
   "outputs": [
    {
     "ename": "AttributeError",
     "evalue": "'WebDriver' object has no attribute 'find_elements_by_class_name'",
     "output_type": "error",
     "traceback": [
      "\u001b[0;31m---------------------------------------------------------------------------\u001b[0m",
      "\u001b[0;31mAttributeError\u001b[0m                            Traceback (most recent call last)",
      "Cell \u001b[0;32mIn[6], line 3\u001b[0m\n\u001b[1;32m      1\u001b[0m driver\u001b[38;5;241m.\u001b[39mget(\u001b[38;5;124m\"\u001b[39m\u001b[38;5;124mhttps://islamqa.info/en/google-search?q=palestine&search_engine=google\u001b[39m\u001b[38;5;124m\"\u001b[39m)\n\u001b[0;32m----> 3\u001b[0m \u001b[38;5;28;01mfor\u001b[39;00m e \u001b[38;5;129;01min\u001b[39;00m \u001b[43mdriver\u001b[49m\u001b[38;5;241;43m.\u001b[39;49m\u001b[43mfind_elements_by_class_name\u001b[49m(\u001b[38;5;124m'\u001b[39m\u001b[38;5;124mresult\u001b[39m\u001b[38;5;124m'\u001b[39m):\n\u001b[1;32m      4\u001b[0m     link \u001b[38;5;241m=\u001b[39m e\u001b[38;5;241m.\u001b[39mfind_element_by_tag_name(\u001b[38;5;124m'\u001b[39m\u001b[38;5;124ma\u001b[39m\u001b[38;5;124m'\u001b[39m)\n\u001b[1;32m      5\u001b[0m     \u001b[38;5;28mprint\u001b[39m(link\u001b[38;5;241m.\u001b[39mtext\u001b[38;5;241m.\u001b[39mencode(\u001b[38;5;124m'\u001b[39m\u001b[38;5;124mascii\u001b[39m\u001b[38;5;124m'\u001b[39m, \u001b[38;5;124m'\u001b[39m\u001b[38;5;124mignore\u001b[39m\u001b[38;5;124m'\u001b[39m), link\u001b[38;5;241m.\u001b[39mget_attribute(\u001b[38;5;124m'\u001b[39m\u001b[38;5;124mhref\u001b[39m\u001b[38;5;124m'\u001b[39m)\u001b[38;5;241m.\u001b[39mencode(\u001b[38;5;124m'\u001b[39m\u001b[38;5;124mascii\u001b[39m\u001b[38;5;124m'\u001b[39m, \u001b[38;5;124m'\u001b[39m\u001b[38;5;124mignore\u001b[39m\u001b[38;5;124m'\u001b[39m))\n",
      "\u001b[0;31mAttributeError\u001b[0m: 'WebDriver' object has no attribute 'find_elements_by_class_name'"
     ]
    }
   ],
   "source": [
    "\n",
    "driver.get(\"https://islamqa.info/en/google-search?q=palestine&search_engine=google\")\n",
    "\n",
    "# gsc-wrapper\n",
    "# gsc-webResult gsc-result"
   ]
  },
  {
   "cell_type": "code",
   "execution_count": 23,
   "id": "d95cb270",
   "metadata": {},
   "outputs": [
    {
     "name": "stdout",
     "output_type": "stream",
     "text": [
      "[<selenium.webdriver.remote.webelement.WebElement (session=\"6cbbe1845c894214c6d47630aa793394\", element=\"EC6397BBB385F9D158A8963F5361EFE8_element_449\")>, <selenium.webdriver.remote.webelement.WebElement (session=\"6cbbe1845c894214c6d47630aa793394\", element=\"EC6397BBB385F9D158A8963F5361EFE8_element_450\")>] 2\n",
      "https://islamqa.info/en/answers/31888/the-situation-of-the-muslims-in-palestine\n",
      "**********\n",
      "[<selenium.webdriver.remote.webelement.WebElement (session=\"6cbbe1845c894214c6d47630aa793394\", element=\"EC6397BBB385F9D158A8963F5361EFE8_element_451\")>, <selenium.webdriver.remote.webelement.WebElement (session=\"6cbbe1845c894214c6d47630aa793394\", element=\"EC6397BBB385F9D158A8963F5361EFE8_element_452\")>] 2\n",
      "https://islamqa.info/en/answers/1098/can-the-muslims-live-in-peace-in-palestine\n",
      "**********\n",
      "[<selenium.webdriver.remote.webelement.WebElement (session=\"6cbbe1845c894214c6d47630aa793394\", element=\"EC6397BBB385F9D158A8963F5361EFE8_element_453\")>, <selenium.webdriver.remote.webelement.WebElement (session=\"6cbbe1845c894214c6d47630aa793394\", element=\"EC6397BBB385F9D158A8963F5361EFE8_element_454\")>] 2\n",
      "https://islamqa.info/en/answers/21977/solution-to-the-palestinian-issue\n",
      "**********\n",
      "[<selenium.webdriver.remote.webelement.WebElement (session=\"6cbbe1845c894214c6d47630aa793394\", element=\"EC6397BBB385F9D158A8963F5361EFE8_element_455\")>, <selenium.webdriver.remote.webelement.WebElement (session=\"6cbbe1845c894214c6d47630aa793394\", element=\"EC6397BBB385F9D158A8963F5361EFE8_element_456\")>] 2\n",
      "https://islamqa.info/en/answers/225721/he-is-asking-about-the-origin-of-the-jews\n",
      "**********\n",
      "[<selenium.webdriver.remote.webelement.WebElement (session=\"6cbbe1845c894214c6d47630aa793394\", element=\"EC6397BBB385F9D158A8963F5361EFE8_element_457\")>, <selenium.webdriver.remote.webelement.WebElement (session=\"6cbbe1845c894214c6d47630aa793394\", element=\"EC6397BBB385F9D158A8963F5361EFE8_element_458\")>] 2\n",
      "https://islamqa.info/en/answers/52606/did-the-prophet-peace-and-blessings-of-allaah-be-upon-him-give-a-waqf-to-tameem-al-daari-in-palestine\n",
      "**********\n",
      "[<selenium.webdriver.remote.webelement.WebElement (session=\"6cbbe1845c894214c6d47630aa793394\", element=\"EC6397BBB385F9D158A8963F5361EFE8_element_459\")>, <selenium.webdriver.remote.webelement.WebElement (session=\"6cbbe1845c894214c6d47630aa793394\", element=\"EC6397BBB385F9D158A8963F5361EFE8_element_460\")>] 2\n",
      "https://islamqa.info/en/answers/21284/helping-oppressed-muslims\n",
      "**********\n",
      "[<selenium.webdriver.remote.webelement.WebElement (session=\"6cbbe1845c894214c6d47630aa793394\", element=\"EC6397BBB385F9D158A8963F5361EFE8_element_461\")>, <selenium.webdriver.remote.webelement.WebElement (session=\"6cbbe1845c894214c6d47630aa793394\", element=\"EC6397BBB385F9D158A8963F5361EFE8_element_462\")>] 2\n",
      "https://islamqa.info/en/answers/7726/the-importance-of-al-quds-for-the-muslims-and-do-the-jews-have-any-right-to-it\n",
      "**********\n",
      "[<selenium.webdriver.remote.webelement.WebElement (session=\"6cbbe1845c894214c6d47630aa793394\", element=\"EC6397BBB385F9D158A8963F5361EFE8_element_463\")>, <selenium.webdriver.remote.webelement.WebElement (session=\"6cbbe1845c894214c6d47630aa793394\", element=\"EC6397BBB385F9D158A8963F5361EFE8_element_464\")>] 2\n",
      "https://islamqa.info/en/answers/93240/not-fasting-because-of-military-parades-and-marches-and-because-of-the-fear-of-dying\n",
      "**********\n",
      "[<selenium.webdriver.remote.webelement.WebElement (session=\"6cbbe1845c894214c6d47630aa793394\", element=\"EC6397BBB385F9D158A8963F5361EFE8_element_426\")>, <selenium.webdriver.remote.webelement.WebElement (session=\"6cbbe1845c894214c6d47630aa793394\", element=\"EC6397BBB385F9D158A8963F5361EFE8_element_465\")>] 2\n",
      "https://islamqa.info/en/answers/21854/the-uprising-of-the-palestinian-people\n",
      "**********\n",
      "[<selenium.webdriver.remote.webelement.WebElement (session=\"6cbbe1845c894214c6d47630aa793394\", element=\"EC6397BBB385F9D158A8963F5361EFE8_element_326\")>, <selenium.webdriver.remote.webelement.WebElement (session=\"6cbbe1845c894214c6d47630aa793394\", element=\"EC6397BBB385F9D158A8963F5361EFE8_element_466\")>] 2\n",
      "https://islamqa.info/en/answers/9423/visiting-al-masjid-al-aqsaa-in-palestine\n",
      "**********\n"
     ]
    }
   ],
   "source": [
    "all_links=[]\n",
    "for elem in driver.find_elements(By.CLASS_NAME, \"gsc-wrapper\"):\n",
    "    ress=elem.find_elements(By.CLASS_NAME, \"gsc-webResult\")\n",
    "#     print(ress,len(ress))\n",
    "    for res in ress[1:]:\n",
    "        links=res.find_elements(By.TAG_NAME,'a')\n",
    "        print(links,len(links))\n",
    "        print(links[0].get_attribute(\"href\"))                \n",
    "        all_links.append(links[0].get_attribute(\"href\"))\n",
    "        print(\"*\"*10)\n",
    "\n",
    "    "
   ]
  },
  {
   "cell_type": "code",
   "execution_count": 28,
   "id": "47cf5f73",
   "metadata": {},
   "outputs": [],
   "source": [
    "import time"
   ]
  },
  {
   "cell_type": "code",
   "execution_count": 30,
   "id": "cc82c713",
   "metadata": {},
   "outputs": [
    {
     "ename": "StaleElementReferenceException",
     "evalue": "Message: stale element reference: stale element not found\n  (Session info: chrome=119.0.6045.159); For documentation on this error, please visit: https://www.selenium.dev/documentation/webdriver/troubleshooting/errors#stale-element-reference-exception\nStacktrace:\n0   chromedriver                        0x0000000104281d28 chromedriver + 4795688\n1   chromedriver                        0x00000001042792b3 chromedriver + 4760243\n2   chromedriver                        0x0000000103e5288d chromedriver + 407693\n3   chromedriver                        0x0000000103e58d6f chromedriver + 433519\n4   chromedriver                        0x0000000103e5b0c4 chromedriver + 442564\n5   chromedriver                        0x0000000103e5b20c chromedriver + 442892\n6   chromedriver                        0x0000000103ea11e7 chromedriver + 729575\n7   chromedriver                        0x0000000103ea1591 chromedriver + 730513\n8   chromedriver                        0x0000000103e95203 chromedriver + 680451\n9   chromedriver                        0x0000000103ec8ccd chromedriver + 892109\n10  chromedriver                        0x0000000103e94c63 chromedriver + 679011\n11  chromedriver                        0x0000000103ec8e5e chromedriver + 892510\n12  chromedriver                        0x0000000103ee4b2b chromedriver + 1006379\n13  chromedriver                        0x0000000103ec8a73 chromedriver + 891507\n14  chromedriver                        0x0000000103e93143 chromedriver + 672067\n15  chromedriver                        0x0000000103e9431e chromedriver + 676638\n16  chromedriver                        0x0000000104242795 chromedriver + 4536213\n17  chromedriver                        0x0000000104247853 chromedriver + 4556883\n18  chromedriver                        0x0000000104228001 chromedriver + 4427777\n19  chromedriver                        0x000000010424859d chromedriver + 4560285\n20  chromedriver                        0x000000010421948c chromedriver + 4367500\n21  chromedriver                        0x00000001042680e8 chromedriver + 4690152\n22  chromedriver                        0x000000010426829e chromedriver + 4690590\n23  chromedriver                        0x0000000104278eee chromedriver + 4759278\n24  libsystem_pthread.dylib             0x00007ff8022014f4 _pthread_start + 125\n25  libsystem_pthread.dylib             0x00007ff8021fd00f thread_start + 15\n",
     "output_type": "error",
     "traceback": [
      "\u001b[0;31m---------------------------------------------------------------------------\u001b[0m",
      "\u001b[0;31mStaleElementReferenceException\u001b[0m            Traceback (most recent call last)",
      "Cell \u001b[0;32mIn[30], line 6\u001b[0m\n\u001b[1;32m      4\u001b[0m \u001b[38;5;28;01mfor\u001b[39;00m i \u001b[38;5;129;01min\u001b[39;00m \u001b[38;5;28mrange\u001b[39m(\u001b[38;5;28mlen\u001b[39m(pages)):\n\u001b[1;32m      5\u001b[0m     pages_cluster \u001b[38;5;129;01min\u001b[39;00m driver\u001b[38;5;241m.\u001b[39mfind_elements(By\u001b[38;5;241m.\u001b[39mCLASS_NAME, class_)\n\u001b[0;32m----> 6\u001b[0m     pages\u001b[38;5;241m=\u001b[39m\u001b[43mpages_cluster\u001b[49m\u001b[38;5;241;43m.\u001b[39;49m\u001b[43mfind_elements\u001b[49m\u001b[43m(\u001b[49m\u001b[43mBy\u001b[49m\u001b[38;5;241;43m.\u001b[39;49m\u001b[43mCLASS_NAME\u001b[49m\u001b[43m,\u001b[49m\u001b[38;5;124;43m\"\u001b[39;49m\u001b[38;5;124;43mgsc-cursor-page\u001b[39;49m\u001b[38;5;124;43m\"\u001b[39;49m\u001b[43m)\u001b[49m\n\u001b[1;32m      7\u001b[0m     pages[i]\u001b[38;5;241m.\u001b[39mclick()\n\u001b[1;32m      8\u001b[0m     time\u001b[38;5;241m.\u001b[39msleep(\u001b[38;5;241m3\u001b[39m)\n",
      "File \u001b[0;32m~/miniconda/envs/py310fore/lib/python3.10/site-packages/selenium/webdriver/remote/webelement.py:438\u001b[0m, in \u001b[0;36mWebElement.find_elements\u001b[0;34m(self, by, value)\u001b[0m\n\u001b[1;32m    435\u001b[0m     by \u001b[38;5;241m=\u001b[39m By\u001b[38;5;241m.\u001b[39mCSS_SELECTOR\n\u001b[1;32m    436\u001b[0m     value \u001b[38;5;241m=\u001b[39m \u001b[38;5;124mf\u001b[39m\u001b[38;5;124m'\u001b[39m\u001b[38;5;124m[name=\u001b[39m\u001b[38;5;124m\"\u001b[39m\u001b[38;5;132;01m{\u001b[39;00mvalue\u001b[38;5;132;01m}\u001b[39;00m\u001b[38;5;124m\"\u001b[39m\u001b[38;5;124m]\u001b[39m\u001b[38;5;124m'\u001b[39m\n\u001b[0;32m--> 438\u001b[0m \u001b[38;5;28;01mreturn\u001b[39;00m \u001b[38;5;28;43mself\u001b[39;49m\u001b[38;5;241;43m.\u001b[39;49m\u001b[43m_execute\u001b[49m\u001b[43m(\u001b[49m\u001b[43mCommand\u001b[49m\u001b[38;5;241;43m.\u001b[39;49m\u001b[43mFIND_CHILD_ELEMENTS\u001b[49m\u001b[43m,\u001b[49m\u001b[43m \u001b[49m\u001b[43m{\u001b[49m\u001b[38;5;124;43m\"\u001b[39;49m\u001b[38;5;124;43musing\u001b[39;49m\u001b[38;5;124;43m\"\u001b[39;49m\u001b[43m:\u001b[49m\u001b[43m \u001b[49m\u001b[43mby\u001b[49m\u001b[43m,\u001b[49m\u001b[43m \u001b[49m\u001b[38;5;124;43m\"\u001b[39;49m\u001b[38;5;124;43mvalue\u001b[39;49m\u001b[38;5;124;43m\"\u001b[39;49m\u001b[43m:\u001b[49m\u001b[43m \u001b[49m\u001b[43mvalue\u001b[49m\u001b[43m}\u001b[49m\u001b[43m)\u001b[49m[\u001b[38;5;124m\"\u001b[39m\u001b[38;5;124mvalue\u001b[39m\u001b[38;5;124m\"\u001b[39m]\n",
      "File \u001b[0;32m~/miniconda/envs/py310fore/lib/python3.10/site-packages/selenium/webdriver/remote/webelement.py:394\u001b[0m, in \u001b[0;36mWebElement._execute\u001b[0;34m(self, command, params)\u001b[0m\n\u001b[1;32m    392\u001b[0m     params \u001b[38;5;241m=\u001b[39m {}\n\u001b[1;32m    393\u001b[0m params[\u001b[38;5;124m\"\u001b[39m\u001b[38;5;124mid\u001b[39m\u001b[38;5;124m\"\u001b[39m] \u001b[38;5;241m=\u001b[39m \u001b[38;5;28mself\u001b[39m\u001b[38;5;241m.\u001b[39m_id\n\u001b[0;32m--> 394\u001b[0m \u001b[38;5;28;01mreturn\u001b[39;00m \u001b[38;5;28;43mself\u001b[39;49m\u001b[38;5;241;43m.\u001b[39;49m\u001b[43m_parent\u001b[49m\u001b[38;5;241;43m.\u001b[39;49m\u001b[43mexecute\u001b[49m\u001b[43m(\u001b[49m\u001b[43mcommand\u001b[49m\u001b[43m,\u001b[49m\u001b[43m \u001b[49m\u001b[43mparams\u001b[49m\u001b[43m)\u001b[49m\n",
      "File \u001b[0;32m~/miniconda/envs/py310fore/lib/python3.10/site-packages/selenium/webdriver/remote/webdriver.py:347\u001b[0m, in \u001b[0;36mWebDriver.execute\u001b[0;34m(self, driver_command, params)\u001b[0m\n\u001b[1;32m    345\u001b[0m response \u001b[38;5;241m=\u001b[39m \u001b[38;5;28mself\u001b[39m\u001b[38;5;241m.\u001b[39mcommand_executor\u001b[38;5;241m.\u001b[39mexecute(driver_command, params)\n\u001b[1;32m    346\u001b[0m \u001b[38;5;28;01mif\u001b[39;00m response:\n\u001b[0;32m--> 347\u001b[0m     \u001b[38;5;28;43mself\u001b[39;49m\u001b[38;5;241;43m.\u001b[39;49m\u001b[43merror_handler\u001b[49m\u001b[38;5;241;43m.\u001b[39;49m\u001b[43mcheck_response\u001b[49m\u001b[43m(\u001b[49m\u001b[43mresponse\u001b[49m\u001b[43m)\u001b[49m\n\u001b[1;32m    348\u001b[0m     response[\u001b[38;5;124m\"\u001b[39m\u001b[38;5;124mvalue\u001b[39m\u001b[38;5;124m\"\u001b[39m] \u001b[38;5;241m=\u001b[39m \u001b[38;5;28mself\u001b[39m\u001b[38;5;241m.\u001b[39m_unwrap_value(response\u001b[38;5;241m.\u001b[39mget(\u001b[38;5;124m\"\u001b[39m\u001b[38;5;124mvalue\u001b[39m\u001b[38;5;124m\"\u001b[39m, \u001b[38;5;28;01mNone\u001b[39;00m))\n\u001b[1;32m    349\u001b[0m     \u001b[38;5;28;01mreturn\u001b[39;00m response\n",
      "File \u001b[0;32m~/miniconda/envs/py310fore/lib/python3.10/site-packages/selenium/webdriver/remote/errorhandler.py:229\u001b[0m, in \u001b[0;36mErrorHandler.check_response\u001b[0;34m(self, response)\u001b[0m\n\u001b[1;32m    227\u001b[0m         alert_text \u001b[38;5;241m=\u001b[39m value[\u001b[38;5;124m\"\u001b[39m\u001b[38;5;124malert\u001b[39m\u001b[38;5;124m\"\u001b[39m]\u001b[38;5;241m.\u001b[39mget(\u001b[38;5;124m\"\u001b[39m\u001b[38;5;124mtext\u001b[39m\u001b[38;5;124m\"\u001b[39m)\n\u001b[1;32m    228\u001b[0m     \u001b[38;5;28;01mraise\u001b[39;00m exception_class(message, screen, stacktrace, alert_text)  \u001b[38;5;66;03m# type: ignore[call-arg]  # mypy is not smart enough here\u001b[39;00m\n\u001b[0;32m--> 229\u001b[0m \u001b[38;5;28;01mraise\u001b[39;00m exception_class(message, screen, stacktrace)\n",
      "\u001b[0;31mStaleElementReferenceException\u001b[0m: Message: stale element reference: stale element not found\n  (Session info: chrome=119.0.6045.159); For documentation on this error, please visit: https://www.selenium.dev/documentation/webdriver/troubleshooting/errors#stale-element-reference-exception\nStacktrace:\n0   chromedriver                        0x0000000104281d28 chromedriver + 4795688\n1   chromedriver                        0x00000001042792b3 chromedriver + 4760243\n2   chromedriver                        0x0000000103e5288d chromedriver + 407693\n3   chromedriver                        0x0000000103e58d6f chromedriver + 433519\n4   chromedriver                        0x0000000103e5b0c4 chromedriver + 442564\n5   chromedriver                        0x0000000103e5b20c chromedriver + 442892\n6   chromedriver                        0x0000000103ea11e7 chromedriver + 729575\n7   chromedriver                        0x0000000103ea1591 chromedriver + 730513\n8   chromedriver                        0x0000000103e95203 chromedriver + 680451\n9   chromedriver                        0x0000000103ec8ccd chromedriver + 892109\n10  chromedriver                        0x0000000103e94c63 chromedriver + 679011\n11  chromedriver                        0x0000000103ec8e5e chromedriver + 892510\n12  chromedriver                        0x0000000103ee4b2b chromedriver + 1006379\n13  chromedriver                        0x0000000103ec8a73 chromedriver + 891507\n14  chromedriver                        0x0000000103e93143 chromedriver + 672067\n15  chromedriver                        0x0000000103e9431e chromedriver + 676638\n16  chromedriver                        0x0000000104242795 chromedriver + 4536213\n17  chromedriver                        0x0000000104247853 chromedriver + 4556883\n18  chromedriver                        0x0000000104228001 chromedriver + 4427777\n19  chromedriver                        0x000000010424859d chromedriver + 4560285\n20  chromedriver                        0x000000010421948c chromedriver + 4367500\n21  chromedriver                        0x00000001042680e8 chromedriver + 4690152\n22  chromedriver                        0x000000010426829e chromedriver + 4690590\n23  chromedriver                        0x0000000104278eee chromedriver + 4759278\n24  libsystem_pthread.dylib             0x00007ff8022014f4 _pthread_start + 125\n25  libsystem_pthread.dylib             0x00007ff8021fd00f thread_start + 15\n"
     ]
    }
   ],
   "source": [
    "class_=\"gsc-cursor\"\n",
    "for pages_cluster in driver.find_elements(By.CLASS_NAME, class_):\n",
    "    pages=pages_cluster.find_elements(By.CLASS_NAME,\"gsc-cursor-page\")\n",
    "    for i in range(len(pages)):\n",
    "        pages_cluster= driver.find_elements(By.CLASS_NAME, class_)\n",
    "        pages=pages_cluster[0].find_elements(By.CLASS_NAME,\"gsc-cursor-page\")\n",
    "        pages[i].click()\n",
    "        time.sleep(3)\n",
    "        \n",
    "        \n",
    "#     for page in pages:\n",
    "#         print(page)\n",
    "#         print(\"****\"*10)\n",
    "#         page.click()\n",
    "#         time.sleep(3)\n"
   ]
  },
  {
   "cell_type": "code",
   "execution_count": null,
   "id": "632761b1",
   "metadata": {},
   "outputs": [],
   "source": [
    "for e in driver.find_elements_by_class_name('result'):\n",
    "    link = e.find_element_by_tag_name('a')\n",
    "    print(link.text.encode('ascii', 'ignore'), link.get_attribute('href').encode('ascii', 'ignore'))\n",
    "\n"
   ]
  },
  {
   "cell_type": "code",
   "execution_count": null,
   "id": "6a046402",
   "metadata": {},
   "outputs": [],
   "source": [
    "driver.quit()"
   ]
  },
  {
   "cell_type": "code",
   "execution_count": null,
   "id": "8aa318f7",
   "metadata": {},
   "outputs": [],
   "source": []
  },
  {
   "cell_type": "code",
   "execution_count": null,
   "id": "82b9c16c",
   "metadata": {},
   "outputs": [],
   "source": [
    "\n",
    "def get_all_links_this_page(url,main_web_url,dicnry_links):\n",
    "    if str(url).endswith(\".pdf\"):\n",
    "        return\n",
    "    print(\"Going for \",url)\n",
    "    response = requests.get(url)\n",
    "    soup = BeautifulSoup(response.text, 'html.parser')\n",
    "    for link in soup.find_all(\"a\", href=True):\n",
    "#         print(\"Link found is\",link[\"href\"])\n",
    "        if str(link[\"href\"]).startswith(\"https:\"):\n",
    "            continue            \n",
    "        link_full=main_web_url+link[\"href\"]\n",
    "#         print(\"link_full\",link_full)    \n",
    "        if link_full not in dicnry_links:\n",
    "            dicnry_links[link_full]=0\n",
    "\n",
    "dicnry_links={}\n",
    "main_web_url='https://remix.aljazeera.com/aje/PalestineRemix/'\n",
    "url = 'https://remix.aljazeera.com/aje/PalestineRemix/'\n",
    "dicnry_links[url]=0\n",
    "counter=0\n",
    "\n",
    "\n",
    "\n",
    "\n",
    "\n",
    "while True:\n",
    "    try:\n",
    "#         print(\"Dicnry:\",dicnry_links)\n",
    "        # get all un-visited web pages\n",
    "        un_visited_urls=[]\n",
    "        for url,item in dicnry_links.items():\n",
    "            if item==0:\n",
    "                un_visited_urls.append(url)\n",
    "        for url in un_visited_urls:\n",
    "            get_all_links_this_page(url,main_web_url,dicnry_links)\n",
    "            dicnry_links[url]=1\n",
    "            counter+=1\n",
    "            print(\"Completed for link:\",url)\n",
    "            print(\"Completed\",counter,\"out of\",len(list(dicnry_links.values())))\n",
    "        if all(list(dicnry_links.values())):\n",
    "            break\n",
    "    except requests.exceptions.SSLError:\n",
    "        print(url,\"sslerror\")\n",
    "        dicnry_links[url]=1\n",
    "        pass\n",
    "    except requests.exceptions.HTTPSConnectionPool:\n",
    "        print(url,\"HTTPSConnectionPool\")\n",
    "        dicnry_links[url]=1\n",
    "        pass\n",
    "\n",
    "destination_dir=\"web_data\"\n",
    "dest_f=main_web_url.split(\"://\")[-1]\n",
    "print(dest_f)\n",
    "destination_dir=destination_dir+'/'+dest_f.replace(\".\",\"_\")\n",
    "print(destination_dir)\n",
    "if not os.path.isdir(destination_dir):\n",
    "    os.mkdir(destination_dir)\n",
    "\n",
    "# now go through the link and download pages as html or pdf\n",
    "\n",
    "for url in dicnry_links.keys():\n",
    "    try:\n",
    "        print(url)\n",
    "        if str(url).endswith(\".pdf\") or str(url).endswith(\".PDF\"):\n",
    "            url=str(url).lower()\n",
    "            file_name=url.split(\".pdf\")[-2]\n",
    "            file_name=file_name.split(\"/\")[-1]\n",
    "            file_name=file_name+\".pdf\"\n",
    "            filename = Path(destination_dir+\"/\"+file_name)\n",
    "            response = requests.get(url)\n",
    "            filename.write_bytes(response.content)\n",
    "    \n",
    "            print(\"pdf file name\",file_name)\n",
    "            continue\n",
    "        response = requests.get(url)  \n",
    "        file_name=url+\".html\"\n",
    "        file_name=file_name.replace(\"/\",\"_\")\n",
    "        print(file_name)\n",
    "        with open(destination_dir+\"/\"+file_name,\"w\") as f:\n",
    "            f.write(response.text)\n",
    "    except:\n",
    "        print(\"issue\")\n",
    "        pass"
   ]
  },
  {
   "cell_type": "code",
   "execution_count": null,
   "id": "1da231ab",
   "metadata": {},
   "outputs": [],
   "source": []
  }
 ],
 "metadata": {
  "kernelspec": {
   "display_name": "py310foreK",
   "language": "python",
   "name": "py310forek"
  },
  "language_info": {
   "codemirror_mode": {
    "name": "ipython",
    "version": 3
   },
   "file_extension": ".py",
   "mimetype": "text/x-python",
   "name": "python",
   "nbconvert_exporter": "python",
   "pygments_lexer": "ipython3",
   "version": "3.10.12"
  }
 },
 "nbformat": 4,
 "nbformat_minor": 5
}
